{
 "cells": [
  {
   "cell_type": "code",
   "execution_count": 1,
   "metadata": {},
   "outputs": [],
   "source": [
    "from elasticsearch import Elasticsearch\n",
    "from elasticsearch.exceptions import RequestError\n"
   ]
  },
  {
   "cell_type": "code",
   "execution_count": 2,
   "metadata": {},
   "outputs": [],
   "source": [
    "import urllib3\n",
    "urllib3.disable_warnings()"
   ]
  },
  {
   "cell_type": "code",
   "execution_count": 3,
   "metadata": {},
   "outputs": [
    {
     "name": "stdout",
     "output_type": "stream",
     "text": [
      "Connected to Elasticsearch successfully!\n"
     ]
    }
   ],
   "source": [
    "es = Elasticsearch(\n",
    "    \"http://localhost:9200\",\n",
    "    basic_auth=(\"elastic\", \"DwOAtXZC3kMLCPadyoQY\"),\n",
    "    verify_certs=False  # Disable SSL certificate verification\n",
    ")\n",
    "\n",
    "# Test connection\n",
    "if es.ping():\n",
    "    print(\"Connected to Elasticsearch successfully!\")\n",
    "else:\n",
    "    print(\"Failed to connect to Elasticsearch.\")"
   ]
  },
  {
   "cell_type": "code",
   "execution_count": 4,
   "metadata": {},
   "outputs": [],
   "source": [
    "import pandas as pd\n",
    "import numpy as np\n",
    "#import matplotlib.pyplot as plt\n"
   ]
  },
  {
   "cell_type": "code",
   "execution_count": 5,
   "metadata": {},
   "outputs": [],
   "source": [
    "df = pd.read_csv(\"movies.csv\").loc[:50000]\n"
   ]
  },
  {
   "cell_type": "code",
   "execution_count": 6,
   "metadata": {},
   "outputs": [
    {
     "data": {
      "text/html": [
       "<div>\n",
       "<style scoped>\n",
       "    .dataframe tbody tr th:only-of-type {\n",
       "        vertical-align: middle;\n",
       "    }\n",
       "\n",
       "    .dataframe tbody tr th {\n",
       "        vertical-align: top;\n",
       "    }\n",
       "\n",
       "    .dataframe thead th {\n",
       "        text-align: right;\n",
       "    }\n",
       "</style>\n",
       "<table border=\"1\" class=\"dataframe\">\n",
       "  <thead>\n",
       "    <tr style=\"text-align: right;\">\n",
       "      <th></th>\n",
       "      <th>id</th>\n",
       "      <th>title</th>\n",
       "      <th>genres</th>\n",
       "      <th>original_language</th>\n",
       "      <th>overview</th>\n",
       "      <th>popularity</th>\n",
       "      <th>production_companies</th>\n",
       "      <th>release_date</th>\n",
       "      <th>budget</th>\n",
       "      <th>revenue</th>\n",
       "      <th>runtime</th>\n",
       "      <th>status</th>\n",
       "      <th>tagline</th>\n",
       "      <th>vote_average</th>\n",
       "      <th>vote_count</th>\n",
       "      <th>credits</th>\n",
       "      <th>keywords</th>\n",
       "      <th>poster_path</th>\n",
       "      <th>backdrop_path</th>\n",
       "      <th>recommendations</th>\n",
       "    </tr>\n",
       "  </thead>\n",
       "  <tbody>\n",
       "    <tr>\n",
       "      <th>0</th>\n",
       "      <td>615656</td>\n",
       "      <td>Meg 2: The Trench</td>\n",
       "      <td>Action-Science Fiction-Horror</td>\n",
       "      <td>en</td>\n",
       "      <td>An exploratory dive into the deepest depths of...</td>\n",
       "      <td>8763.998</td>\n",
       "      <td>Apelles Entertainment-Warner Bros. Pictures-di...</td>\n",
       "      <td>2023-08-02</td>\n",
       "      <td>129000000.0</td>\n",
       "      <td>352056482.0</td>\n",
       "      <td>116.0</td>\n",
       "      <td>Released</td>\n",
       "      <td>Back for seconds.</td>\n",
       "      <td>7.079</td>\n",
       "      <td>1365.0</td>\n",
       "      <td>Jason Statham-Wu Jing-Shuya Sophia Cai-Sergio ...</td>\n",
       "      <td>based on novel or book-sequel-kaiju</td>\n",
       "      <td>/4m1Au3YkjqsxF8iwQy0fPYSxE0h.jpg</td>\n",
       "      <td>/qlxy8yo5bcgUw2KAmmojUKp4rHd.jpg</td>\n",
       "      <td>1006462-298618-569094-1061181-346698-1076487-6...</td>\n",
       "    </tr>\n",
       "    <tr>\n",
       "      <th>1</th>\n",
       "      <td>758323</td>\n",
       "      <td>The Pope's Exorcist</td>\n",
       "      <td>Horror-Mystery-Thriller</td>\n",
       "      <td>en</td>\n",
       "      <td>Father Gabriele Amorth Chief Exorcist of the V...</td>\n",
       "      <td>5953.227</td>\n",
       "      <td>Screen Gems-2.0 Entertainment-Jesus &amp; Mary-Wor...</td>\n",
       "      <td>2023-04-05</td>\n",
       "      <td>18000000.0</td>\n",
       "      <td>65675816.0</td>\n",
       "      <td>103.0</td>\n",
       "      <td>Released</td>\n",
       "      <td>Inspired by the actual files of Father Gabriel...</td>\n",
       "      <td>7.433</td>\n",
       "      <td>545.0</td>\n",
       "      <td>Russell Crowe-Daniel Zovatto-Alex Essoe-Franco...</td>\n",
       "      <td>spain-rome italy-vatican-pope-pig-possession-c...</td>\n",
       "      <td>/9JBEPLTPSm0d1mbEcLxULjJq9Eh.jpg</td>\n",
       "      <td>/hiHGRbyTcbZoLsYYkO4QiCLYe34.jpg</td>\n",
       "      <td>713704-296271-502356-1076605-1084225-1008005-9...</td>\n",
       "    </tr>\n",
       "    <tr>\n",
       "      <th>2</th>\n",
       "      <td>667538</td>\n",
       "      <td>Transformers: Rise of the Beasts</td>\n",
       "      <td>Action-Adventure-Science Fiction</td>\n",
       "      <td>en</td>\n",
       "      <td>When a new threat capable of destroying the en...</td>\n",
       "      <td>5409.104</td>\n",
       "      <td>Skydance-Paramount-di Bonaventura Pictures-Bay...</td>\n",
       "      <td>2023-06-06</td>\n",
       "      <td>200000000.0</td>\n",
       "      <td>407045464.0</td>\n",
       "      <td>127.0</td>\n",
       "      <td>Released</td>\n",
       "      <td>Unite or fall.</td>\n",
       "      <td>7.340</td>\n",
       "      <td>1007.0</td>\n",
       "      <td>Anthony Ramos-Dominique Fishback-Luna Lauren V...</td>\n",
       "      <td>peru-alien-end of the world-based on cartoon-b...</td>\n",
       "      <td>/gPbM0MK8CP8A174rmUwGsADNYKD.jpg</td>\n",
       "      <td>/woJbg7ZqidhpvqFGGMRhWQNoxwa.jpg</td>\n",
       "      <td>496450-569094-298618-385687-877100-598331-4628...</td>\n",
       "    </tr>\n",
       "    <tr>\n",
       "      <th>3</th>\n",
       "      <td>693134</td>\n",
       "      <td>Dune: Part Two</td>\n",
       "      <td>Science Fiction-Adventure</td>\n",
       "      <td>en</td>\n",
       "      <td>Follow the mythic journey of Paul Atreides as ...</td>\n",
       "      <td>4742.163</td>\n",
       "      <td>Legendary Pictures</td>\n",
       "      <td>2024-02-27</td>\n",
       "      <td>190000000.0</td>\n",
       "      <td>683813734.0</td>\n",
       "      <td>167.0</td>\n",
       "      <td>Released</td>\n",
       "      <td>Long live the fighters.</td>\n",
       "      <td>8.300</td>\n",
       "      <td>2770.0</td>\n",
       "      <td>Timothée Chalamet-Zendaya-Rebecca Ferguson-Jav...</td>\n",
       "      <td>epic-based on novel or book-fight-sandstorm-sa...</td>\n",
       "      <td>/czembW0Rk1Ke7lCJGahbOhdCuhV.jpg</td>\n",
       "      <td>/xOMo8BRK7PfcJv9JCnx7s5hj0PX.jpg</td>\n",
       "      <td>438631-763215-792307-1011985-467244-634492-359...</td>\n",
       "    </tr>\n",
       "    <tr>\n",
       "      <th>4</th>\n",
       "      <td>640146</td>\n",
       "      <td>Ant-Man and the Wasp: Quantumania</td>\n",
       "      <td>Action-Adventure-Science Fiction</td>\n",
       "      <td>en</td>\n",
       "      <td>Super-Hero partners Scott Lang and Hope van Dy...</td>\n",
       "      <td>4425.387</td>\n",
       "      <td>Marvel Studios-Kevin Feige Productions</td>\n",
       "      <td>2023-02-15</td>\n",
       "      <td>200000000.0</td>\n",
       "      <td>475766228.0</td>\n",
       "      <td>125.0</td>\n",
       "      <td>Released</td>\n",
       "      <td>Witness the beginning of a new dynasty.</td>\n",
       "      <td>6.507</td>\n",
       "      <td>2811.0</td>\n",
       "      <td>Paul Rudd-Evangeline Lilly-Jonathan Majors-Kat...</td>\n",
       "      <td>hero-ant-sequel-superhero-based on comic-famil...</td>\n",
       "      <td>/qnqGbB22YJ7dSs4o6M7exTpNxPz.jpg</td>\n",
       "      <td>/m8JTwHFwX7I7JY5fPe4SjqejWag.jpg</td>\n",
       "      <td>823999-676841-868759-734048-267805-965839-1033...</td>\n",
       "    </tr>\n",
       "  </tbody>\n",
       "</table>\n",
       "</div>"
      ],
      "text/plain": [
       "       id                              title  \\\n",
       "0  615656                  Meg 2: The Trench   \n",
       "1  758323                The Pope's Exorcist   \n",
       "2  667538   Transformers: Rise of the Beasts   \n",
       "3  693134                     Dune: Part Two   \n",
       "4  640146  Ant-Man and the Wasp: Quantumania   \n",
       "\n",
       "                             genres original_language  \\\n",
       "0     Action-Science Fiction-Horror                en   \n",
       "1           Horror-Mystery-Thriller                en   \n",
       "2  Action-Adventure-Science Fiction                en   \n",
       "3         Science Fiction-Adventure                en   \n",
       "4  Action-Adventure-Science Fiction                en   \n",
       "\n",
       "                                            overview  popularity  \\\n",
       "0  An exploratory dive into the deepest depths of...    8763.998   \n",
       "1  Father Gabriele Amorth Chief Exorcist of the V...    5953.227   \n",
       "2  When a new threat capable of destroying the en...    5409.104   \n",
       "3  Follow the mythic journey of Paul Atreides as ...    4742.163   \n",
       "4  Super-Hero partners Scott Lang and Hope van Dy...    4425.387   \n",
       "\n",
       "                                production_companies release_date  \\\n",
       "0  Apelles Entertainment-Warner Bros. Pictures-di...   2023-08-02   \n",
       "1  Screen Gems-2.0 Entertainment-Jesus & Mary-Wor...   2023-04-05   \n",
       "2  Skydance-Paramount-di Bonaventura Pictures-Bay...   2023-06-06   \n",
       "3                                 Legendary Pictures   2024-02-27   \n",
       "4             Marvel Studios-Kevin Feige Productions   2023-02-15   \n",
       "\n",
       "        budget      revenue  runtime    status  \\\n",
       "0  129000000.0  352056482.0    116.0  Released   \n",
       "1   18000000.0   65675816.0    103.0  Released   \n",
       "2  200000000.0  407045464.0    127.0  Released   \n",
       "3  190000000.0  683813734.0    167.0  Released   \n",
       "4  200000000.0  475766228.0    125.0  Released   \n",
       "\n",
       "                                             tagline  vote_average  \\\n",
       "0                                  Back for seconds.         7.079   \n",
       "1  Inspired by the actual files of Father Gabriel...         7.433   \n",
       "2                                     Unite or fall.         7.340   \n",
       "3                            Long live the fighters.         8.300   \n",
       "4            Witness the beginning of a new dynasty.         6.507   \n",
       "\n",
       "   vote_count                                            credits  \\\n",
       "0      1365.0  Jason Statham-Wu Jing-Shuya Sophia Cai-Sergio ...   \n",
       "1       545.0  Russell Crowe-Daniel Zovatto-Alex Essoe-Franco...   \n",
       "2      1007.0  Anthony Ramos-Dominique Fishback-Luna Lauren V...   \n",
       "3      2770.0  Timothée Chalamet-Zendaya-Rebecca Ferguson-Jav...   \n",
       "4      2811.0  Paul Rudd-Evangeline Lilly-Jonathan Majors-Kat...   \n",
       "\n",
       "                                            keywords  \\\n",
       "0                based on novel or book-sequel-kaiju   \n",
       "1  spain-rome italy-vatican-pope-pig-possession-c...   \n",
       "2  peru-alien-end of the world-based on cartoon-b...   \n",
       "3  epic-based on novel or book-fight-sandstorm-sa...   \n",
       "4  hero-ant-sequel-superhero-based on comic-famil...   \n",
       "\n",
       "                        poster_path                     backdrop_path  \\\n",
       "0  /4m1Au3YkjqsxF8iwQy0fPYSxE0h.jpg  /qlxy8yo5bcgUw2KAmmojUKp4rHd.jpg   \n",
       "1  /9JBEPLTPSm0d1mbEcLxULjJq9Eh.jpg  /hiHGRbyTcbZoLsYYkO4QiCLYe34.jpg   \n",
       "2  /gPbM0MK8CP8A174rmUwGsADNYKD.jpg  /woJbg7ZqidhpvqFGGMRhWQNoxwa.jpg   \n",
       "3  /czembW0Rk1Ke7lCJGahbOhdCuhV.jpg  /xOMo8BRK7PfcJv9JCnx7s5hj0PX.jpg   \n",
       "4  /qnqGbB22YJ7dSs4o6M7exTpNxPz.jpg  /m8JTwHFwX7I7JY5fPe4SjqejWag.jpg   \n",
       "\n",
       "                                     recommendations  \n",
       "0  1006462-298618-569094-1061181-346698-1076487-6...  \n",
       "1  713704-296271-502356-1076605-1084225-1008005-9...  \n",
       "2  496450-569094-298618-385687-877100-598331-4628...  \n",
       "3  438631-763215-792307-1011985-467244-634492-359...  \n",
       "4  823999-676841-868759-734048-267805-965839-1033...  "
      ]
     },
     "execution_count": 6,
     "metadata": {},
     "output_type": "execute_result"
    }
   ],
   "source": [
    "df.head(5)\n",
    "\n"
   ]
  },
  {
   "cell_type": "code",
   "execution_count": 7,
   "metadata": {},
   "outputs": [
    {
     "data": {
      "text/plain": [
       "(50001, 20)"
      ]
     },
     "execution_count": 7,
     "metadata": {},
     "output_type": "execute_result"
    }
   ],
   "source": [
    "df.shape"
   ]
  },
  {
   "cell_type": "code",
   "execution_count": 8,
   "metadata": {},
   "outputs": [
    {
     "name": "stdout",
     "output_type": "stream",
     "text": [
      "<class 'pandas.core.frame.DataFrame'>\n",
      "RangeIndex: 50001 entries, 0 to 50000\n",
      "Data columns (total 20 columns):\n",
      " #   Column                Non-Null Count  Dtype  \n",
      "---  ------                --------------  -----  \n",
      " 0   id                    50001 non-null  int64  \n",
      " 1   title                 50001 non-null  object \n",
      " 2   genres                48812 non-null  object \n",
      " 3   original_language     50001 non-null  object \n",
      " 4   overview              49125 non-null  object \n",
      " 5   popularity            50001 non-null  float64\n",
      " 6   production_companies  43926 non-null  object \n",
      " 7   release_date          49841 non-null  object \n",
      " 8   budget                50001 non-null  float64\n",
      " 9   revenue               50001 non-null  float64\n",
      " 10  runtime               49912 non-null  float64\n",
      " 11  status                50001 non-null  object \n",
      " 12  tagline               25819 non-null  object \n",
      " 13  vote_average          50001 non-null  float64\n",
      " 14  vote_count            50001 non-null  float64\n",
      " 15  credits               48758 non-null  object \n",
      " 16  keywords              36422 non-null  object \n",
      " 17  poster_path           49533 non-null  object \n",
      " 18  backdrop_path         45445 non-null  object \n",
      " 19  recommendations       26304 non-null  object \n",
      "dtypes: float64(6), int64(1), object(13)\n",
      "memory usage: 7.6+ MB\n"
     ]
    }
   ],
   "source": [
    "df.info()"
   ]
  },
  {
   "cell_type": "code",
   "execution_count": 9,
   "metadata": {},
   "outputs": [
    {
     "name": "stdout",
     "output_type": "stream",
     "text": [
      "id                          0\n",
      "title                       0\n",
      "genres                   1189\n",
      "original_language           0\n",
      "overview                  876\n",
      "popularity                  0\n",
      "production_companies     6075\n",
      "release_date              160\n",
      "budget                      0\n",
      "revenue                     0\n",
      "runtime                    89\n",
      "status                      0\n",
      "tagline                 24182\n",
      "vote_average                0\n",
      "vote_count                  0\n",
      "credits                  1243\n",
      "keywords                13579\n",
      "poster_path               468\n",
      "backdrop_path            4556\n",
      "recommendations         23697\n",
      "dtype: int64\n"
     ]
    }
   ],
   "source": [
    "#print null values in each column\n",
    "null_values = df.isnull().sum()\n",
    "print(null_values)"
   ]
  },
  {
   "cell_type": "code",
   "execution_count": 10,
   "metadata": {},
   "outputs": [
    {
     "name": "stdout",
     "output_type": "stream",
     "text": [
      "id                          0\n",
      "title                       0\n",
      "genres                      0\n",
      "original_language           0\n",
      "overview                    0\n",
      "popularity                  0\n",
      "production_companies     5063\n",
      "release_date               80\n",
      "budget                      0\n",
      "revenue                     0\n",
      "runtime                    16\n",
      "status                      0\n",
      "tagline                 22467\n",
      "vote_average                0\n",
      "vote_count                  0\n",
      "credits                   744\n",
      "keywords                12197\n",
      "poster_path               264\n",
      "backdrop_path            3457\n",
      "recommendations         22073\n",
      "dtype: int64\n"
     ]
    }
   ],
   "source": [
    "#remove records where overview, title and genres is null\n",
    "df = df.dropna(subset=['overview', 'genres', 'title'])\n",
    "print(df.isnull().sum())"
   ]
  },
  {
   "cell_type": "code",
   "execution_count": 11,
   "metadata": {},
   "outputs": [
    {
     "data": {
      "text/plain": [
       "(48155, 20)"
      ]
     },
     "execution_count": 11,
     "metadata": {},
     "output_type": "execute_result"
    }
   ],
   "source": [
    "df.shape"
   ]
  },
  {
   "cell_type": "code",
   "execution_count": 12,
   "metadata": {},
   "outputs": [
    {
     "name": "stdout",
     "output_type": "stream",
     "text": [
      "Number of duplicate rows: 0\n"
     ]
    }
   ],
   "source": [
    "\n",
    "duplicates = df.duplicated().sum()\n",
    "print(f\"Number of duplicate rows: {duplicates}\")"
   ]
  },
  {
   "cell_type": "code",
   "execution_count": 13,
   "metadata": {},
   "outputs": [],
   "source": [
    "df = df.drop_duplicates()   "
   ]
  },
  {
   "cell_type": "code",
   "execution_count": 14,
   "metadata": {},
   "outputs": [
    {
     "data": {
      "text/plain": [
       "id     title  genres  original_language  overview  popularity  production_companies  release_date  budget  revenue  runtime  status  tagline  vote_average  vote_count  credits  keywords  poster_path  backdrop_path  recommendations\n",
       "False  False  False   False              False     False       False                 False         False   False    False    False   False    False         False       False    False     False        False          False              13738\n",
       "                                                                                                                                                                                                                       True                6691\n",
       "                                                                                                                                     True     False         False       False    False     False        False          False               6420\n",
       "                                                                                                                                                                                                                       True                5083\n",
       "                                                                                                                                                                                 True      False        False          True                2901\n",
       "                                                                                                                                                                                                                                          ...  \n",
       "                                                               True                  False         False   False    True     False   True     False         False       False    True      False        False          True                   1\n",
       "                                                                                                                    False    False   True     False         False       True     True      True         True           False                  1\n",
       "                                                                                     True          False   False    False    False   True     False         False       False    True      False        False          True                   1\n",
       "                                                                                                                                                                        True     False     False        True           True                   1\n",
       "                                                                                                                                                                                 True      False        True           True                   1\n",
       "Name: count, Length: 122, dtype: int64"
      ]
     },
     "execution_count": 14,
     "metadata": {},
     "output_type": "execute_result"
    }
   ],
   "source": [
    "df.isna().value_counts()"
   ]
  },
  {
   "cell_type": "code",
   "execution_count": 15,
   "metadata": {},
   "outputs": [
    {
     "name": "stderr",
     "output_type": "stream",
     "text": [
      "C:\\Users\\sajan\\AppData\\Local\\Temp\\ipykernel_25692\\2303779330.py:1: FutureWarning: Setting an item of incompatible dtype is deprecated and will raise an error in a future version of pandas. Value 'None' has dtype incompatible with float64, please explicitly cast to a compatible dtype first.\n",
      "  df.fillna(\"None\",inplace=True)\n"
     ]
    }
   ],
   "source": [
    "df.fillna(\"None\",inplace=True)"
   ]
  },
  {
   "cell_type": "code",
   "execution_count": 16,
   "metadata": {},
   "outputs": [
    {
     "name": "stderr",
     "output_type": "stream",
     "text": [
      "c:\\irwa Project_2\\venv\\Lib\\site-packages\\sentence_transformers\\cross_encoder\\CrossEncoder.py:13: TqdmWarning: IProgress not found. Please update jupyter and ipywidgets. See https://ipywidgets.readthedocs.io/en/stable/user_install.html\n",
      "  from tqdm.autonotebook import tqdm, trange\n",
      "c:\\irwa Project_2\\venv\\Lib\\site-packages\\transformers\\tokenization_utils_base.py:1601: FutureWarning: `clean_up_tokenization_spaces` was not set. It will be set to `True` by default. This behavior will be depracted in transformers v4.45, and will be then set to `False` by default. For more details check this issue: https://github.com/huggingface/transformers/issues/31884\n",
      "  warnings.warn(\n"
     ]
    }
   ],
   "source": [
    "from sentence_transformers import SentenceTransformer\n",
    "model = SentenceTransformer('all-mpnet-base-v2')"
   ]
  },
  {
   "cell_type": "code",
   "execution_count": 17,
   "metadata": {},
   "outputs": [],
   "source": [
    "# Create the vectors\n",
    "df[\"OverviewVector\"] = df[\"overview\"].apply(lambda x: model.encode(x))\n",
    "\n"
   ]
  },
  {
   "cell_type": "code",
   "execution_count": 18,
   "metadata": {},
   "outputs": [
    {
     "name": "stdout",
     "output_type": "stream",
     "text": [
      "id                        int64\n",
      "title                    object\n",
      "genres                   object\n",
      "original_language        object\n",
      "overview                 object\n",
      "popularity              float64\n",
      "production_companies     object\n",
      "release_date             object\n",
      "budget                  float64\n",
      "revenue                 float64\n",
      "runtime                  object\n",
      "status                   object\n",
      "tagline                  object\n",
      "vote_average            float64\n",
      "vote_count              float64\n",
      "credits                  object\n",
      "keywords                 object\n",
      "poster_path              object\n",
      "backdrop_path            object\n",
      "recommendations          object\n",
      "OverviewVector           object\n",
      "dtype: object\n"
     ]
    }
   ],
   "source": [
    "df.head()\n",
    "print(df.dtypes)"
   ]
  },
  {
   "cell_type": "code",
   "execution_count": 39,
   "metadata": {},
   "outputs": [
    {
     "name": "stderr",
     "output_type": "stream",
     "text": [
      "C:\\Users\\sajan\\AppData\\Local\\Temp\\ipykernel_25692\\3785875669.py:4: DeprecationWarning: The 'http_auth' parameter is deprecated. Use 'basic_auth' or 'bearer_auth' parameters instead\n",
      "  es = Elasticsearch(\n"
     ]
    },
    {
     "name": "stdout",
     "output_type": "stream",
     "text": [
      "Index exists, deleting...\n",
      "Index created successfully.\n"
     ]
    }
   ],
   "source": [
    "from elasticsearch import Elasticsearch, TransportError, ConnectionError, RequestError\n",
    "\n",
    "# Create the Elasticsearch client with authentication\n",
    "es = Elasticsearch(\n",
    "    hosts=[\"http://localhost:9200\"],\n",
    "    http_auth=(\"elastic\", \"DwOAtXZC3kMLCPadyoQY\"),  \n",
    "    request_timeout=120\n",
    ")\n",
    "index_body = {\n",
    "    \"settings\": {\n",
    "        \"analysis\": {\n",
    "            \"filter\": {\n",
    "                \"synonym_filter\": {\n",
    "                    \"type\": \"synonym\",\n",
    "                    \"synonyms_path\": \"synonyms.txt\"  \n",
    "                }\n",
    "            },\n",
    "            \"analyzer\": {\n",
    "                \"synonym_analyzer\": {\n",
    "                    \"tokenizer\": \"whitespace\",\n",
    "                    \"filter\": [\"lowercase\", \"synonym_filter\"]\n",
    "                }\n",
    "            }\n",
    "        }\n",
    "    },\n",
    "    \"mappings\": {\n",
    "        \"properties\": {\n",
    "            \"id\": {\"type\": \"long\"},\n",
    "            \"title\": {\"type\": \"text\", \"analyzer\": \"standard\"},\n",
    "            \"genres\": {\"type\": \"text\"},\n",
    "            \"original_language\": {\"type\": \"text\"},\n",
    "            \"overview\": {\"type\": \"text\", \"analyzer\": \"standard\"},\n",
    "            \"popularity\": {\"type\": \"long\"},\n",
    "            \"production_companies\": {\"type\": \"text\"},\n",
    "            \"release_date\": {\"type\": \"date\", \"format\": \"yyyy-MM-dd\"},\n",
    "            \"budget\": {\"type\": \"long\"},\n",
    "            \"revenue\": {\"type\": \"long\"},\n",
    "            \"runtime\": {\"type\": \"long\"},\n",
    "            \"status\": {\"type\": \"text\"},\n",
    "            \"tagline\": {\"type\": \"text\", \"analyzer\": \"standard\"},\n",
    "            \"vote_average\": {\"type\": \"float\"},\n",
    "            \"vote_count\": {\"type\": \"long\"},\n",
    "            \"credits\": {\"type\": \"text\", \"analyzer\": \"standard\"},\n",
    "            \"keywords\": {\"type\": \"text\"},\n",
    "            \"poster_path\": {\"type\": \"text\"},\n",
    "            \"backdrop_path\": {\"type\": \"text\"},\n",
    "            \"recommendations\": {\"type\": \"text\", \"analyzer\": \"standard\"},\n",
    "            \"OverviewVector\": {\n",
    "                \"type\": \"dense_vector\",\n",
    "                \"dims\": 768,\n",
    "                \"index\": True,\n",
    "                \"similarity\": \"l2_norm\"\n",
    "            }\n",
    "        }\n",
    "    }\n",
    "}\n",
    "\n",
    "# Check if the index already exists\n",
    "if es.indices.exists(index=\"all_movies\"):\n",
    "    print(\"Index exists, deleting...\")\n",
    "    es.indices.delete(index=\"all_movies\")\n",
    "\n",
    "# Create the index with both settings and mappings\n",
    "try:\n",
    "    es.indices.create(index=\"all_movies\", body=index_body)\n",
    "    print(\"Index created successfully.\")\n",
    "except RequestError as e:\n",
    "    print(f\"RequestError: {e.info}\")\n",
    "except TransportError as e:\n",
    "    print(f\"TransportError: {e.info}\")\n",
    "except ConnectionError as e:\n",
    "    print(f\"ConnectionError: {str(e)}\")\n",
    "except Exception as e:\n",
    "    print(f\"Unexpected error: {e}\")\n",
    "    \n",
    "\n",
    "\n",
    "\n"
   ]
  },
  {
   "cell_type": "code",
   "execution_count": 40,
   "metadata": {},
   "outputs": [],
   "source": [
    "record_list = df.to_dict(\"records\")"
   ]
  },
  {
   "cell_type": "code",
   "execution_count": 50,
   "metadata": {},
   "outputs": [
    {
     "name": "stdout",
     "output_type": "stream",
     "text": [
      "BadRequestError(400, 'document_parsing_exception', \"[1:329] failed to parse field [release_date] of type [date] in document with id '616851'. Preview of field's value: 'None'\")\n",
      "BadRequestError(400, 'document_parsing_exception', \"[1:822] failed to parse field [release_date] of type [date] in document with id '496276'. Preview of field's value: 'None'\")\n",
      "BadRequestError(400, 'document_parsing_exception', \"[1:329] failed to parse field [release_date] of type [date] in document with id '616851'. Preview of field's value: 'None'\")\n",
      "BadRequestError(400, 'document_parsing_exception', \"[1:257] failed to parse field [release_date] of type [date] in document with id '730629'. Preview of field's value: 'None'\")\n",
      "BadRequestError(400, 'document_parsing_exception', \"[1:312] failed to parse field [release_date] of type [date] in document with id '852845'. Preview of field's value: 'None'\")\n",
      "BadRequestError(400, 'document_parsing_exception', \"[1:349] failed to parse field [release_date] of type [date] in document with id '553301'. Preview of field's value: 'None'\")\n",
      "BadRequestError(400, 'document_parsing_exception', \"[1:291] failed to parse field [release_date] of type [date] in document with id '615129'. Preview of field's value: 'None'\")\n",
      "BadRequestError(400, 'document_parsing_exception', \"[1:245] failed to parse field [release_date] of type [date] in document with id '421892'. Preview of field's value: 'None'\")\n",
      "BadRequestError(400, 'document_parsing_exception', \"[1:353] failed to parse field [runtime] of type [long] in document with id '497859'. Preview of field's value: 'None'\")\n",
      "BadRequestError(400, 'document_parsing_exception', \"[1:322] failed to parse field [release_date] of type [date] in document with id '875828'. Preview of field's value: 'None'\")\n",
      "BadRequestError(400, 'document_parsing_exception', \"[1:354] failed to parse field [runtime] of type [long] in document with id '497859'. Preview of field's value: 'None'\")\n",
      "BadRequestError(400, 'document_parsing_exception', \"[1:277] failed to parse field [release_date] of type [date] in document with id '695727'. Preview of field's value: 'None'\")\n",
      "BadRequestError(400, 'document_parsing_exception', \"[1:714] failed to parse field [runtime] of type [long] in document with id '273831'. Preview of field's value: 'None'\")\n",
      "BadRequestError(400, 'document_parsing_exception', \"[1:251] failed to parse field [release_date] of type [date] in document with id '504075'. Preview of field's value: 'None'\")\n",
      "BadRequestError(400, 'document_parsing_exception', \"[1:250] failed to parse field [release_date] of type [date] in document with id '574475'. Preview of field's value: 'None'\")\n",
      "BadRequestError(400, 'document_parsing_exception', \"[1:298] failed to parse field [release_date] of type [date] in document with id '792932'. Preview of field's value: 'None'\")\n",
      "BadRequestError(400, 'document_parsing_exception', \"[1:281] failed to parse field [release_date] of type [date] in document with id '690595'. Preview of field's value: 'None'\")\n",
      "BadRequestError(400, 'document_parsing_exception', \"[1:282] failed to parse field [release_date] of type [date] in document with id '690595'. Preview of field's value: 'None'\")\n",
      "BadRequestError(400, 'document_parsing_exception', \"[1:282] failed to parse field [release_date] of type [date] in document with id '690595'. Preview of field's value: 'None'\")\n",
      "BadRequestError(400, 'document_parsing_exception', \"[1:775] failed to parse field [release_date] of type [date] in document with id '947486'. Preview of field's value: 'None'\")\n",
      "BadRequestError(400, 'document_parsing_exception', \"[1:250] failed to parse field [release_date] of type [date] in document with id '628861'. Preview of field's value: 'None'\")\n",
      "BadRequestError(400, 'document_parsing_exception', \"[1:276] failed to parse field [release_date] of type [date] in document with id '631969'. Preview of field's value: 'None'\")\n",
      "BadRequestError(400, 'document_parsing_exception', \"[1:375] failed to parse field [release_date] of type [date] in document with id '297797'. Preview of field's value: 'None'\")\n",
      "BadRequestError(400, 'document_parsing_exception', \"[1:314] failed to parse field [release_date] of type [date] in document with id '688048'. Preview of field's value: 'None'\")\n",
      "BadRequestError(400, 'document_parsing_exception', \"[1:423] failed to parse field [release_date] of type [date] in document with id '929534'. Preview of field's value: 'None'\")\n",
      "BadRequestError(400, 'document_parsing_exception', \"[1:518] failed to parse field [release_date] of type [date] in document with id '374771'. Preview of field's value: 'None'\")\n",
      "BadRequestError(400, 'document_parsing_exception', \"[1:325] failed to parse field [release_date] of type [date] in document with id '422641'. Preview of field's value: 'None'\")\n",
      "BadRequestError(400, 'document_parsing_exception', \"[1:348] failed to parse field [release_date] of type [date] in document with id '777437'. Preview of field's value: 'None'\")\n",
      "BadRequestError(400, 'document_parsing_exception', \"[1:215] failed to parse field [release_date] of type [date] in document with id '645708'. Preview of field's value: 'None'\")\n",
      "BadRequestError(400, 'document_parsing_exception', \"[1:369] failed to parse field [release_date] of type [date] in document with id '929614'. Preview of field's value: 'None'\")\n",
      "BadRequestError(400, 'document_parsing_exception', \"[1:271] failed to parse field [release_date] of type [date] in document with id '931285'. Preview of field's value: 'None'\")\n",
      "BadRequestError(400, 'document_parsing_exception', \"[1:344] failed to parse field [release_date] of type [date] in document with id '670940'. Preview of field's value: 'None'\")\n",
      "BadRequestError(400, 'document_parsing_exception', \"[1:492] failed to parse field [release_date] of type [date] in document with id '747512'. Preview of field's value: 'None'\")\n",
      "BadRequestError(400, 'document_parsing_exception', \"[1:249] failed to parse field [release_date] of type [date] in document with id '848890'. Preview of field's value: 'None'\")\n",
      "BadRequestError(400, 'document_parsing_exception', \"[1:737] failed to parse field [release_date] of type [date] in document with id '758122'. Preview of field's value: 'None'\")\n",
      "BadRequestError(400, 'document_parsing_exception', \"[1:297] failed to parse field [release_date] of type [date] in document with id '570678'. Preview of field's value: 'None'\")\n",
      "BadRequestError(400, 'document_parsing_exception', \"[1:492] failed to parse field [release_date] of type [date] in document with id '747512'. Preview of field's value: 'None'\")\n",
      "BadRequestError(400, 'document_parsing_exception', \"[1:270] failed to parse field [release_date] of type [date] in document with id '939342'. Preview of field's value: 'None'\")\n",
      "BadRequestError(400, 'document_parsing_exception', \"[1:324] failed to parse field [release_date] of type [date] in document with id '422642'. Preview of field's value: 'None'\")\n",
      "BadRequestError(400, 'document_parsing_exception', \"[1:737] failed to parse field [release_date] of type [date] in document with id '758122'. Preview of field's value: 'None'\")\n",
      "BadRequestError(400, 'document_parsing_exception', \"[1:410] failed to parse field [release_date] of type [date] in document with id '911926'. Preview of field's value: 'None'\")\n",
      "BadRequestError(400, 'document_parsing_exception', \"[1:297] failed to parse field [release_date] of type [date] in document with id '792932'. Preview of field's value: 'None'\")\n",
      "BadRequestError(400, 'document_parsing_exception', \"[1:291] failed to parse field [release_date] of type [date] in document with id '671400'. Preview of field's value: 'None'\")\n",
      "BadRequestError(400, 'document_parsing_exception', \"[1:252] failed to parse field [release_date] of type [date] in document with id '698954'. Preview of field's value: 'None'\")\n",
      "BadRequestError(400, 'document_parsing_exception', \"[1:291] failed to parse field [release_date] of type [date] in document with id '671400'. Preview of field's value: 'None'\")\n",
      "BadRequestError(400, 'document_parsing_exception', \"[1:244] failed to parse field [release_date] of type [date] in document with id '425274'. Preview of field's value: 'None'\")\n",
      "BadRequestError(400, 'document_parsing_exception', \"[1:389] failed to parse field [release_date] of type [date] in document with id '547725'. Preview of field's value: 'None'\")\n",
      "BadRequestError(400, 'document_parsing_exception', \"[1:486] failed to parse field [release_date] of type [date] in document with id '347196'. Preview of field's value: 'None'\")\n",
      "BadRequestError(400, 'document_parsing_exception', \"[1:292] failed to parse field [release_date] of type [date] in document with id '732408'. Preview of field's value: 'None'\")\n",
      "BadRequestError(400, 'document_parsing_exception', \"[1:555] failed to parse field [release_date] of type [date] in document with id '687163'. Preview of field's value: 'None'\")\n",
      "BadRequestError(400, 'document_parsing_exception', \"[1:213] failed to parse field [release_date] of type [date] in document with id '496318'. Preview of field's value: 'None'\")\n",
      "BadRequestError(400, 'document_parsing_exception', \"[1:389] failed to parse field [release_date] of type [date] in document with id '547725'. Preview of field's value: 'None'\")\n",
      "BadRequestError(400, 'document_parsing_exception', \"[1:238] failed to parse field [release_date] of type [date] in document with id '812583'. Preview of field's value: 'None'\")\n",
      "BadRequestError(400, 'document_parsing_exception', \"[1:737] failed to parse field [release_date] of type [date] in document with id '758122'. Preview of field's value: 'None'\")\n",
      "BadRequestError(400, 'document_parsing_exception', \"[1:708] failed to parse field [runtime] of type [long] in document with id '385851'. Preview of field's value: 'None'\")\n",
      "BadRequestError(400, 'document_parsing_exception', \"[1:291] failed to parse field [release_date] of type [date] in document with id '671400'. Preview of field's value: 'None'\")\n",
      "BadRequestError(400, 'document_parsing_exception', \"[1:296] failed to parse field [release_date] of type [date] in document with id '792932'. Preview of field's value: 'None'\")\n",
      "BadRequestError(400, 'document_parsing_exception', \"[1:272] failed to parse field [release_date] of type [date] in document with id '552524'. Preview of field's value: 'None'\")\n",
      "BadRequestError(400, 'document_parsing_exception', \"[1:492] failed to parse field [release_date] of type [date] in document with id '747512'. Preview of field's value: 'None'\")\n",
      "BadRequestError(400, 'document_parsing_exception', \"[1:347] failed to parse field [release_date] of type [date] in document with id '626741'. Preview of field's value: 'None'\")\n",
      "BadRequestError(400, 'document_parsing_exception', \"[1:402] failed to parse field [release_date] of type [date] in document with id '777443'. Preview of field's value: 'None'\")\n",
      "BadRequestError(400, 'document_parsing_exception', \"[1:430] failed to parse field [runtime] of type [long] in document with id '535035'. Preview of field's value: 'None'\")\n",
      "BadRequestError(400, 'document_parsing_exception', \"[1:262] failed to parse field [release_date] of type [date] in document with id '420812'. Preview of field's value: 'None'\")\n",
      "BadRequestError(400, 'document_parsing_exception', \"[1:256] failed to parse field [release_date] of type [date] in document with id '455223'. Preview of field's value: 'None'\")\n",
      "BadRequestError(400, 'document_parsing_exception', \"[1:379] failed to parse field [release_date] of type [date] in document with id '481881'. Preview of field's value: 'None'\")\n",
      "BadRequestError(400, 'document_parsing_exception', \"[1:691] failed to parse field [release_date] of type [date] in document with id '836529'. Preview of field's value: 'None'\")\n",
      "BadRequestError(400, 'document_parsing_exception', \"[1:337] failed to parse field [runtime] of type [long] in document with id '493288'. Preview of field's value: 'None'\")\n",
      "BadRequestError(400, 'document_parsing_exception', \"[1:578] failed to parse field [release_date] of type [date] in document with id '957121'. Preview of field's value: 'None'\")\n",
      "BadRequestError(400, 'document_parsing_exception', \"[1:269] failed to parse field [release_date] of type [date] in document with id '585893'. Preview of field's value: 'None'\")\n",
      "BadRequestError(400, 'document_parsing_exception', \"[1:621] failed to parse field [runtime] of type [long] in document with id '559444'. Preview of field's value: 'None'\")\n",
      "BadRequestError(400, 'document_parsing_exception', \"[1:430] failed to parse field [runtime] of type [long] in document with id '535035'. Preview of field's value: 'None'\")\n",
      "BadRequestError(400, 'document_parsing_exception', \"[1:281] failed to parse field [release_date] of type [date] in document with id '531210'. Preview of field's value: 'None'\")\n",
      "BadRequestError(400, 'document_parsing_exception', \"[1:405] failed to parse field [release_date] of type [date] in document with id '168781'. Preview of field's value: 'None'\")\n",
      "BadRequestError(400, 'document_parsing_exception', \"[1:267] failed to parse field [release_date] of type [date] in document with id '607394'. Preview of field's value: 'None'\")\n",
      "BadRequestError(400, 'document_parsing_exception', \"[1:387] failed to parse field [release_date] of type [date] in document with id '822300'. Preview of field's value: 'None'\")\n",
      "BadRequestError(400, 'document_parsing_exception', \"[1:915] failed to parse field [runtime] of type [long] in document with id '553998'. Preview of field's value: 'None'\")\n",
      "BadRequestError(400, 'document_parsing_exception', \"[1:621] failed to parse field [runtime] of type [long] in document with id '559444'. Preview of field's value: 'None'\")\n",
      "BadRequestError(400, 'document_parsing_exception', \"[1:621] failed to parse field [runtime] of type [long] in document with id '559444'. Preview of field's value: 'None'\")\n",
      "BadRequestError(400, 'document_parsing_exception', \"[1:389] failed to parse field [release_date] of type [date] in document with id '547725'. Preview of field's value: 'None'\")\n",
      "BadRequestError(400, 'document_parsing_exception', \"[1:269] failed to parse field [release_date] of type [date] in document with id '585893'. Preview of field's value: 'None'\")\n",
      "BadRequestError(400, 'document_parsing_exception', \"[1:629] failed to parse field [release_date] of type [date] in document with id '487555'. Preview of field's value: 'None'\")\n",
      "BadRequestError(400, 'document_parsing_exception', \"[1:257] failed to parse field [release_date] of type [date] in document with id '533533'. Preview of field's value: 'None'\")\n",
      "BadRequestError(400, 'document_parsing_exception', \"[1:777] failed to parse field [runtime] of type [long] in document with id '359589'. Preview of field's value: 'None'\")\n",
      "BadRequestError(400, 'document_parsing_exception', \"[1:777] failed to parse field [runtime] of type [long] in document with id '359589'. Preview of field's value: 'None'\")\n",
      "BadRequestError(400, 'document_parsing_exception', \"[1:395] failed to parse field [release_date] of type [date] in document with id '475324'. Preview of field's value: 'None'\")\n",
      "BadRequestError(400, 'document_parsing_exception', \"[1:208] failed to parse field [release_date] of type [date] in document with id '796342'. Preview of field's value: 'None'\")\n",
      "BadRequestError(400, 'document_parsing_exception', \"[1:245] failed to parse field [release_date] of type [date] in document with id '370322'. Preview of field's value: 'None'\")\n",
      "BadRequestError(400, 'document_parsing_exception', \"[1:281] failed to parse field [release_date] of type [date] in document with id '531210'. Preview of field's value: 'None'\")\n",
      "BadRequestError(400, 'document_parsing_exception', \"[1:324] failed to parse field [runtime] of type [long] in document with id '486779'. Preview of field's value: 'None'\")\n",
      "BadRequestError(400, 'document_parsing_exception', \"[1:415] failed to parse field [release_date] of type [date] in document with id '595962'. Preview of field's value: 'None'\")\n",
      "BadRequestError(400, 'document_parsing_exception', \"[1:608] failed to parse field [release_date] of type [date] in document with id '566688'. Preview of field's value: 'None'\")\n",
      "BadRequestError(400, 'document_parsing_exception', \"[1:797] failed to parse field [release_date] of type [date] in document with id '412012'. Preview of field's value: 'None'\")\n",
      "BadRequestError(400, 'document_parsing_exception', \"[1:915] failed to parse field [runtime] of type [long] in document with id '553998'. Preview of field's value: 'None'\")\n",
      "BadRequestError(400, 'document_parsing_exception', \"[1:429] failed to parse field [runtime] of type [long] in document with id '535035'. Preview of field's value: 'None'\")\n",
      "BadRequestError(400, 'document_parsing_exception', \"[1:287] failed to parse field [release_date] of type [date] in document with id '557692'. Preview of field's value: 'None'\")\n",
      "BadRequestError(400, 'document_parsing_exception', \"[1:307] failed to parse field [release_date] of type [date] in document with id '896536'. Preview of field's value: 'None'\")\n"
     ]
    }
   ],
   "source": [
    "for record in record_list:\n",
    "    try:\n",
    "        es.index(index=\"all_movies\", document=record, id=record[\"id\"])\n",
    "    except Exception as e:\n",
    "        print(e)"
   ]
  },
  {
   "cell_type": "code",
   "execution_count": 51,
   "metadata": {},
   "outputs": [
    {
     "data": {
      "text/plain": [
       "ObjectApiResponse({'count': 46042, '_shards': {'total': 1, 'successful': 1, 'skipped': 0, 'failed': 0}})"
      ]
     },
     "execution_count": 51,
     "metadata": {},
     "output_type": "execute_result"
    }
   ],
   "source": [
    "es.count(index=\"all_movies\")"
   ]
  },
  {
   "cell_type": "code",
   "execution_count": 52,
   "metadata": {},
   "outputs": [
    {
     "name": "stdout",
     "output_type": "stream",
     "text": [
      "[{'_index': 'all_movies', '_id': '287590', '_score': 0.51970947, '_source': {'title': 'Saint Seiya: Legend of Sanctuary', 'genres': 'Action-Animation-Fantasy', 'overview': 'Warriors called \"Saints\" are the champions of hope who have always appeared since the Age of Myth whenever evil threatens the world. In this present day story many years since the long fought \"Holy War\" we find Saori Kido a girl troubled by her mysterious powers. She is saved by a boy Seiya \"Bronze Saint\" from a sudden attack by an assassin through the accident Saori realizes her destiny and mission and decides to go to \"Sanctuary\" with Seiya and his company of Bronze Saints. In Sanctuary they confront \"Pope\" and wage a desperate battle against the greatest Saints the \"Gold Saints\".', 'vote_average': 6.5, 'poster_path': '/gxKfP9278RK4t3J8vLXoFfB8ihl.jpg', 'backdrop_path': '/odBSDNyi5J6Sed2Xu3QKTtEAIzN.jpg'}}, {'_index': 'all_movies', '_id': '178592', '_score': 0.5085058, '_source': {'title': 'Tiger & Bunny: The Beginning', 'genres': 'Animation-Action-Science Fiction', 'overview': 'Set on an alternative Earth Superheroes are celebrities and a high rating TV show rates their achievements awarding them points until an annual King of Heroes is crowned. Old-school hero Wild Tiger is assigned a new partner with very different views on the heroes role in society but soon a vigilante criminal presents them with a serious problem.', 'vote_average': 6.4, 'poster_path': '/mQ7qAsev0trm7jwiXoNHeXCWYHn.jpg', 'backdrop_path': '/gzBVylQP2AbjacSj1oHeZR08u2g.jpg'}}]\n"
     ]
    },
    {
     "name": "stderr",
     "output_type": "stream",
     "text": [
      "C:\\Users\\sajan\\AppData\\Local\\Temp\\ipykernel_25692\\3940546205.py:23: ElasticsearchWarning: The kNN search API has been replaced by the `knn` option in the search API.\n",
      "  res = es.knn_search(index=\"all_movies\", knn=query, source=[\"title\", \"overview\", \"genres\", \"vote_average\", \"poster_path\", \"backdrop_path\", \"combined_overview\"])\n"
     ]
    }
   ],
   "source": [
    "# Use the synonym analyzer on input keyword\n",
    "input_keyword = \"Super Hero\"\n",
    "analyzed_keyword = es.indices.analyze(index=\"all_movies\", body={\n",
    "    \"analyzer\": \"synonym_analyzer\",\n",
    "    \"text\": input_keyword\n",
    "})\n",
    "\n",
    "\n",
    "processed_keyword = \" \".join([token[\"token\"] for token in analyzed_keyword[\"tokens\"]])\n",
    "\n",
    "\n",
    "vector_of_input_keyword = model.encode(processed_keyword)\n",
    "\n",
    "# Perform KNN search\n",
    "query = {\n",
    "    \"field\": \"OverviewVector\",\n",
    "    \"query_vector\": vector_of_input_keyword,\n",
    "    \"k\": 2,\n",
    "    \"num_candidates\": 500,\n",
    "}\n",
    "\n",
    "# KNN search with vector and return relevant fields\n",
    "res = es.knn_search(index=\"all_movies\", knn=query, source=[\"title\", \"overview\", \"genres\", \"vote_average\", \"poster_path\", \"backdrop_path\", \"combined_overview\"])\n",
    "\n",
    "# Display hits\n",
    "print(res[\"hits\"][\"hits\"])"
   ]
  },
  {
   "cell_type": "code",
   "execution_count": 53,
   "metadata": {},
   "outputs": [],
   "source": [
    "def search_movies(query):\n",
    "  # search movies using the Elasticsearch `search` method\n",
    "  # and return the search results\n",
    "  res = es.search(index=\"all_movies\", body=query)\n",
    "  return res\n",
    "def filter_movies(title=None, genres=None):\n",
    "  # create a bool query to filter the movies\n",
    "  bool_query = {\n",
    "    \"bool\": {\n",
    "      \"must\": []\n",
    "    }\n",
    "  }\n",
    "  # add filters to the bool query based on the provided parameters\n",
    "  if title:\n",
    "    bool_query[\"bool\"][\"must\"].append({\"match\": {\"name\": title}})\n",
    "  if genres:\n",
    "    bool_query[\"bool\"][\"must\"].append({\"match\": {\"genre\": genres}})\n",
    "  \n",
    "  # create the Elasticsearch query\n",
    "  query = {\n",
    "    \"query\": bool_query\n",
    "  }\n",
    "  # search and return the movies\n",
    "  return search_movies(query)"
   ]
  },
  {
   "cell_type": "code",
   "execution_count": 54,
   "metadata": {},
   "outputs": [
    {
     "name": "stdout",
     "output_type": "stream",
     "text": [
      "AP for query 'A detective solving a mystery in a small town': 0.75\n",
      "AP for query 'a panda performing martial arts': 0.5833333333333333\n",
      "Mean Average Precision (MAP): 0.6666666666666666\n"
     ]
    },
    {
     "ename": "",
     "evalue": "",
     "output_type": "error",
     "traceback": [
      "\u001b[1;31mThe Kernel crashed while executing code in the current cell or a previous cell. \n",
      "\u001b[1;31mPlease review the code in the cell(s) to identify a possible cause of the failure. \n",
      "\u001b[1;31mClick <a href='https://aka.ms/vscodeJupyterKernelCrash'>here</a> for more info. \n",
      "\u001b[1;31mView Jupyter <a href='command:jupyter.viewOutput'>log</a> for further details."
     ]
    }
   ],
   "source": [
    "# Example of multiple queries and their relevant results in the movie domain\n",
    "queries = {\n",
    "     \n",
    "   \n",
    "    \"A detective solving a mystery in a small town\": [\"Sherlock Holmes\", \"Knives Out\", \"Jar City\", \"Uncle John\"],\n",
    "    \"a panda performing martial arts\": [\"Kung Fu Panda\", \"Kung Fu Panda 2\", \"Kung Fu Panda Holiday\", \"Kung Fu Panda 3\"]\n",
    "}\n",
    "\n",
    "# Example function to calculate Precision@K\n",
    "def precision_at_k(k, retrieved, relevant):\n",
    "    retrieved_k = retrieved[:k]\n",
    "    relevant_k = [item for item in retrieved_k if item in relevant]\n",
    "    precision = len(relevant_k) / k\n",
    "    return precision\n",
    "\n",
    "# Function to calculate Average Precision (AP)\n",
    "def average_precision(retrieved, relevant):\n",
    "    num_relevant = 0\n",
    "    score_sum = 0\n",
    "    for k, doc in enumerate(retrieved, start=1):\n",
    "        if doc in relevant:\n",
    "            num_relevant += 1\n",
    "            score_sum += precision_at_k(k, retrieved, relevant)\n",
    "    \n",
    "    if num_relevant == 0:\n",
    "        return 0.0\n",
    "    return score_sum / num_relevant\n",
    "\n",
    "# Function to calculate Mean Average Precision (MAP)\n",
    "def mean_average_precision(queries, retrieved_results):\n",
    "    ap_sum = 0\n",
    "    for query, relevant_docs in queries.items():\n",
    "        retrieved_docs = retrieved_results.get(query, [])\n",
    "        ap = average_precision(retrieved_docs, relevant_docs)\n",
    "        ap_sum += ap\n",
    "        print(f\"AP for query '{query}': {ap}\")\n",
    "    \n",
    "    map_score = ap_sum / len(queries)\n",
    "    return map_score\n",
    "\n",
    "# Simulating search results for each query with 4 retrieved movies\n",
    "retrieved_results = {\n",
    "   \n",
    "    \n",
    "    \"A detective solving a mystery in a small town\": [\"Jar City\", \"Winterkartoffelknödel\", \"Reptile\", \"Uncle John\"],\n",
    "    \"a panda performing martial arts\": [\"Pandas\", \"Kung Fu Panda\", \"Kung Fu Panda 2\", \"Turning Red\"]\n",
    "}\n",
    "\n",
    "# Calculate Mean Average Precision (MAP)\n",
    "map_score = mean_average_precision(queries, retrieved_results)\n",
    "print(f\"Mean Average Precision (MAP): {map_score}\")\n"
   ]
  }
 ],
 "metadata": {
  "kernelspec": {
   "display_name": "venv",
   "language": "python",
   "name": "python3"
  },
  "language_info": {
   "codemirror_mode": {
    "name": "ipython",
    "version": 3
   },
   "file_extension": ".py",
   "mimetype": "text/x-python",
   "name": "python",
   "nbconvert_exporter": "python",
   "pygments_lexer": "ipython3",
   "version": "3.12.6"
  }
 },
 "nbformat": 4,
 "nbformat_minor": 2
}
